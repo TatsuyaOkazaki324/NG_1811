{
 "cells": [
  {
   "cell_type": "code",
   "execution_count": null,
   "metadata": {},
   "outputs": [],
   "source": [
    "import json\n",
    "from pprint import pprint"
   ]
  },
  {
   "cell_type": "code",
   "execution_count": null,
   "metadata": {},
   "outputs": [],
   "source": [
    "cmd_data = []\n",
    "with open(\"cmd_data.txt\",\"r\") as f:\n",
    "    for cmd in f:\n",
    "        cmd_data.append(cmd)"
   ]
  },
  {
   "cell_type": "code",
   "execution_count": null,
   "metadata": {},
   "outputs": [],
   "source": [
    "cmd = cmd_data[0].split()\n",
    "def parse_option(opt):\n",
    "    return opt[1:len(opt)-1].split(\"|\")\n"
   ]
  },
  {
   "cell_type": "code",
   "execution_count": null,
   "metadata": {},
   "outputs": [],
   "source": [
    "model = {}"
   ]
  },
  {
   "cell_type": "code",
   "execution_count": null,
   "metadata": {},
   "outputs": [],
   "source": [
    "path = model\n",
    "for row in cmd:\n",
    "    if row[0] == \"[\":\n",
    "        opts = parse_option(row)\n",
    "        \n",
    "        for opt in opts:\n",
    "            path[opt] = {\n",
    "                \"type\":\"option\",\n",
    "                \"val\":opt,\n",
    "                \"predict\":False,\n",
    "                \"des\":\"これが説明だよー\",\n",
    "                \"weight\":1\n",
    "            }\n",
    "        \n",
    "    elif row[0] == \"@\":\n",
    "        path[\"@place\"]={\n",
    "            \"type\":\"arg\",\n",
    "            \"des\":\"これが説明だよー\",\n",
    "            \"val\":\"@place\",\n",
    "            \"predict\":False,\n",
    "            \"placeholder\":row[1:],\n",
    "            \"weight\":10,\n",
    "            \"@next\":{}\n",
    "        }\n",
    "        path = path[\"@place\"][\"@next\"]\n",
    "    \n",
    "    elif row[0] == \"|\":\n",
    "        \n",
    "        path[row]={\n",
    "            \"type\":\"pipe\",\n",
    "            \"weight\":10,\n",
    "            \"des\":\"前のコマンドの結果を次に受け渡す\",\n",
    "            \"predict\":True,\n",
    "            \"@next\":{}\n",
    "        }\n",
    "        \n",
    "        path = path[row][\"@next\"]\n",
    "        \n",
    "    elif row == \"xargs\":\n",
    "        \n",
    "        path[row]={\n",
    "            \"type\":\"command\",\n",
    "            \"weight\":10,\n",
    "            \"des\":\"前のコマンドの結果からコマンドラインを作成\",\n",
    "            \"predict\":True,\n",
    "            \"@next\":{}\n",
    "        }\n",
    "        \n",
    "        \n",
    "    else:\n",
    "        path[row] = {\n",
    "            \"weight\":1,\n",
    "            \"type\":\"command\",\n",
    "            \"val\":row,\n",
    "            \"predict\":True,\n",
    "            \"des\":\"これが説明だよー\",\n",
    "            \"@next\":{}\n",
    "        }\n",
    "        \n",
    "        path = path[row][\"@next\"]\n",
    "        \n",
    "    \n",
    "    "
   ]
  },
  {
   "cell_type": "code",
   "execution_count": null,
   "metadata": {},
   "outputs": [],
   "source": [
    "pprint(model)"
   ]
  },
  {
   "cell_type": "code",
   "execution_count": null,
   "metadata": {},
   "outputs": [],
   "source": [
    "with open(\"../app/src/renderer/assets/model.json\",\"w\") as f:\n",
    "    json.dump(model,f,indent=2,ensure_ascii=False)"
   ]
  },
  {
   "cell_type": "code",
   "execution_count": null,
   "metadata": {},
   "outputs": [],
   "source": []
  },
  {
   "cell_type": "code",
   "execution_count": null,
   "metadata": {},
   "outputs": [],
   "source": []
  }
 ],
 "metadata": {
  "kernelspec": {
   "display_name": "Python 3",
   "language": "python",
   "name": "python3"
  },
  "language_info": {
   "codemirror_mode": {
    "name": "ipython",
    "version": 3
   },
   "file_extension": ".py",
   "mimetype": "text/x-python",
   "name": "python",
   "nbconvert_exporter": "python",
   "pygments_lexer": "ipython3",
   "version": "3.6.5"
  }
 },
 "nbformat": 4,
 "nbformat_minor": 2
}
