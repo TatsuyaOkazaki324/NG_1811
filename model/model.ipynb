{
 "cells": [
  {
   "cell_type": "code",
   "execution_count": null,
   "metadata": {},
   "outputs": [],
   "source": [
    "import re\n",
    "import json\n",
    "from pprint import pprint\n",
    "from random import random"
   ]
  },
  {
   "cell_type": "markdown",
   "metadata": {},
   "source": [
    "# データの読み込み\n",
    "他のモデルに追加で書き込む場合は\n",
    "```py\n",
    "# model = json.load(\"model.json\")\n",
    "```\n",
    "のコメントアウトを外す"
   ]
  },
  {
   "cell_type": "code",
   "execution_count": null,
   "metadata": {},
   "outputs": [],
   "source": [
    "f = open(\"cmd_data.txt\",\"r\")\n",
    "cmd_datas = [row.strip().split() for row in f]\n",
    "f.close()\n",
    "\n",
    "model = {}\n",
    "# model = json.load(\"model.json\")\n",
    "\n",
    "def std_val(text):\n",
    "    return re.sub(\"[\\[\\]\\(\\)]\",\"\",text)"
   ]
  },
  {
   "cell_type": "code",
   "execution_count": null,
   "metadata": {},
   "outputs": [],
   "source": [
    "ex_cmd = []\n",
    "\n",
    "for row in cmd_datas:\n",
    "    cmd = []\n",
    "    \n",
    "    # コマンドのタイプを決定\n",
    "    for i in range(len(row)):\n",
    "        if row[i][0] == \"-\":\n",
    "            c_type =\"option\"\n",
    "        elif row[i][0] == \"(\":\n",
    "            c_type = \"arg\"\n",
    "        elif row[i][0] == \"[\":\n",
    "            c_type = \"arg\"\n",
    "        elif row[i][0] == \"|\":\n",
    "            c_type = \"pipe\"\n",
    "        elif row[i] in [\"<\",\"<<\",\">\",\">>\"]:\n",
    "            c_type = \"redirect\"\n",
    "        elif i == 0 or row[i-1] in [\"|\"]:\n",
    "            c_type = \"command\"\n",
    "        else:\n",
    "            c_type = \"option\"\n",
    "        \n",
    "        cmd.append({\n",
    "            \"val\":std_val(row[i]),\n",
    "            \"type\":c_type\n",
    "        })\n",
    "    ex_cmd.append(cmd)\n"
   ]
  },
  {
   "cell_type": "markdown",
   "metadata": {},
   "source": [
    "# 共通の説明の定義\n",
    "パイプ処理やリダイレクトなど、説明が共通なものはここで定義する\n",
    "```\n",
    "git rm\n",
    "rm \n",
    "```\n",
    "など(上の例だとrm)他のコマンドで出現するものは共通の説明に追加しない"
   ]
  },
  {
   "cell_type": "code",
   "execution_count": null,
   "metadata": {},
   "outputs": [],
   "source": [
    "def cmd_print(cmd):\n",
    "    print(*[v[\"val\"] for v in cmd])\n",
    "\n",
    "common_dic ={\n",
    "    \"|\":\"前のコマンドの結果を次に受け渡す\",\n",
    "    \">\":\"前のコマンドの結果を次のファイルに追加(上書き)\",\n",
    "    \">>\":\"前のコマンドの結果を次のファイルに追加(追加)\",\n",
    "    \"xargs\":\"前のコマンドの結果からコマンドラインを作成\"\n",
    "}"
   ]
  },
  {
   "cell_type": "markdown",
   "metadata": {},
   "source": [
    "# モデルの作成\n",
    "コマンドの各要素に対して表示する説明を入力する"
   ]
  },
  {
   "cell_type": "code",
   "execution_count": null,
   "metadata": {},
   "outputs": [],
   "source": [
    "for cmd in ex_cmd:\n",
    "    path = model\n",
    "    for cell in cmd:\n",
    "        val = cell[\"val\"]\n",
    "        \n",
    "        if val in path:\n",
    "            path[val][\"weight\"] += 1\n",
    "        elif \"@place\" in path and cell[\"type\"] == \"arg\":\n",
    "            path[\"@place\"][\"weight\"] += 1\n",
    "        else:\n",
    "            if val in common_dic:\n",
    "                des = common_dic[val]\n",
    "            else:\n",
    "                cmd_print(cmd)\n",
    "                print(\"target : \",val)\n",
    "                des = input()\n",
    "            if cell[\"type\"] == \"arg\":\n",
    "                path[\"@place\"] = {\n",
    "                    \"placeholder\":val,\n",
    "                    \"type\":cell[\"type\"],\n",
    "                    \"weight\":1,\n",
    "                    \"des\":des,\n",
    "                    \"@next\":{}\n",
    "                }\n",
    "            else:\n",
    "                path[val] = {\n",
    "                    \"val\":val,\n",
    "                    \"type\":cell[\"type\"],\n",
    "                    \"weight\":1,\n",
    "                    \"des\":des,\n",
    "                    \"@next\":{}\n",
    "                }    \n",
    "        if cell[\"type\"] == \"arg\":\n",
    "            path = path[\"@place\"][\"@next\"]\n",
    "        else:\n",
    "            try:\n",
    "                path = path[val][\"@next\"]\n",
    "            except:\n",
    "                pprint(path)\n",
    "                \n",
    "        "
   ]
  },
  {
   "cell_type": "markdown",
   "metadata": {},
   "source": [
    "モデルの保存"
   ]
  },
  {
   "cell_type": "code",
   "execution_count": null,
   "metadata": {},
   "outputs": [],
   "source": [
    "with open(\"../app/src/renderer/assets/model.json\",\"w\") as f:\n",
    "    json.dump(model,f,indent=2,ensure_ascii=False)"
   ]
  }
 ],
 "metadata": {
  "kernelspec": {
   "display_name": "Python 3",
   "language": "python",
   "name": "python3"
  },
  "language_info": {
   "codemirror_mode": {
    "name": "ipython",
    "version": 3
   },
   "file_extension": ".py",
   "mimetype": "text/x-python",
   "name": "python",
   "nbconvert_exporter": "python",
   "pygments_lexer": "ipython3",
   "version": "3.6.5"
  }
 },
 "nbformat": 4,
 "nbformat_minor": 2
}
