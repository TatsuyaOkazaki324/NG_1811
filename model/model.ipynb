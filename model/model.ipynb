{
 "cells": [
  {
   "cell_type": "code",
   "execution_count": 102,
   "metadata": {},
   "outputs": [],
   "source": [
    "import json\n",
    "from pprint import pprint"
   ]
  },
  {
   "cell_type": "code",
   "execution_count": 116,
   "metadata": {},
   "outputs": [],
   "source": [
    "cmd_data = []\n",
    "with open(\"cmd_data.txt\",\"r\") as f:\n",
    "    for cmd in f:\n",
    "        cmd_data.append(cmd)"
   ]
  },
  {
   "cell_type": "code",
   "execution_count": 117,
   "metadata": {},
   "outputs": [],
   "source": [
    "cmd = cmd_data[0].split()\n",
    "def parse_option(opt):\n",
    "    return opt[1:len(opt)-1].split(\"|\")\n"
   ]
  },
  {
   "cell_type": "code",
   "execution_count": 118,
   "metadata": {},
   "outputs": [],
   "source": [
    "model = {}"
   ]
  },
  {
   "cell_type": "code",
   "execution_count": 119,
   "metadata": {},
   "outputs": [],
   "source": [
    "path = model\n",
    "for row in cmd:\n",
    "    if row[0] == \"[\":\n",
    "        opts = parse_option(row)\n",
    "        \n",
    "        for opt in opts:\n",
    "            path[opt] = {\n",
    "                \"type\":\"option\",\n",
    "                \"val\":opt,\n",
    "                \"predict\":False,\n",
    "                \"des\":\"これが説明だよー\",\n",
    "                \"weight\":1\n",
    "            }\n",
    "        \n",
    "    elif row[0] == \"@\":\n",
    "        path[\"@place\"]={\n",
    "            \"type\":\"arg\",\n",
    "            \"des\":\"これが説明だよー\",\n",
    "            \"val\":\"@place\",\n",
    "            \"predict\":False,\n",
    "            \"placeholder\":row[1:],\n",
    "            \"weight\":10,\n",
    "            \"@next\":{}\n",
    "        }\n",
    "        path = path[\"@place\"][\"@next\"]\n",
    "    \n",
    "    elif row[0] == \"|\":\n",
    "        \n",
    "        path[row]={\n",
    "            \"type\":\"pipe\",\n",
    "            \"weight\":10,\n",
    "            \"des\":\"前のコマンドの結果を次に受け渡す\",\n",
    "            \"predict\":True,\n",
    "            \"@next\":{}\n",
    "        }\n",
    "        \n",
    "        path = path[row][\"@next\"]\n",
    "        \n",
    "    elif row == \"xargs\":\n",
    "        \n",
    "        path[row]={\n",
    "            \"type\":\"command\",\n",
    "            \"weight\":10,\n",
    "            \"des\":\"前のコマンドの結果からコマンドラインを作成\",\n",
    "            \"predict\":True,\n",
    "            \"@next\":{}\n",
    "        }\n",
    "        \n",
    "        \n",
    "    else:\n",
    "        path[row] = {\n",
    "            \"weight\":1,\n",
    "            \"type\":\"command\",\n",
    "            \"val\":row,\n",
    "            \"predict\":True,\n",
    "            \"des\":\"これが説明だよー\",\n",
    "            \"@next\":{}\n",
    "        }\n",
    "        \n",
    "        path = path[row][\"@next\"]\n",
    "        \n",
    "    \n",
    "    "
   ]
  },
  {
   "cell_type": "code",
   "execution_count": 120,
   "metadata": {},
   "outputs": [
    {
     "name": "stdout",
     "output_type": "stream",
     "text": [
      "{'cat': {'@next': {'-b': {'des': 'これが説明だよー',\n",
      "                          'predict': False,\n",
      "                          'type': 'option',\n",
      "                          'val': '-b',\n",
      "                          'weight': 1},\n",
      "                   '-n': {'des': 'これが説明だよー',\n",
      "                          'predict': False,\n",
      "                          'type': 'option',\n",
      "                          'val': '-n',\n",
      "                          'weight': 1},\n",
      "                   '-s': {'des': 'これが説明だよー',\n",
      "                          'predict': False,\n",
      "                          'type': 'option',\n",
      "                          'val': '-s',\n",
      "                          'weight': 1},\n",
      "                   '@place': {'@next': {'>>': {'@next': {'@place': {'@next': {},\n",
      "                                                                    'des': 'これが説明だよー',\n",
      "                                                                    'placeholder': 'ファイル名',\n",
      "                                                                    'predict': False,\n",
      "                                                                    'type': 'arg',\n",
      "                                                                    'val': '@place',\n",
      "                                                                    'weight': 10}},\n",
      "                                               'des': 'これが説明だよー',\n",
      "                                               'predict': True,\n",
      "                                               'type': 'command',\n",
      "                                               'val': '>>',\n",
      "                                               'weight': 1}},\n",
      "                              'des': 'これが説明だよー',\n",
      "                              'placeholder': 'ファイル名',\n",
      "                              'predict': False,\n",
      "                              'type': 'arg',\n",
      "                              'val': '@place',\n",
      "                              'weight': 10}},\n",
      "         'des': 'これが説明だよー',\n",
      "         'predict': True,\n",
      "         'type': 'command',\n",
      "         'val': 'cat',\n",
      "         'weight': 1}}\n"
     ]
    }
   ],
   "source": [
    "pprint(model)"
   ]
  },
  {
   "cell_type": "code",
   "execution_count": 121,
   "metadata": {},
   "outputs": [],
   "source": [
    "with open(\"../app/src/renderer/assets/model.json\",\"w\") as f:\n",
    "    json.dump(model,f,indent=2,ensure_ascii=False)"
   ]
  },
  {
   "cell_type": "code",
   "execution_count": null,
   "metadata": {},
   "outputs": [],
   "source": []
  },
  {
   "cell_type": "code",
   "execution_count": null,
   "metadata": {},
   "outputs": [],
   "source": []
  }
 ],
 "metadata": {
  "kernelspec": {
   "display_name": "Python 3",
   "language": "python",
   "name": "python3"
  },
  "language_info": {
   "codemirror_mode": {
    "name": "ipython",
    "version": 3
   },
   "file_extension": ".py",
   "mimetype": "text/x-python",
   "name": "python",
   "nbconvert_exporter": "python",
   "pygments_lexer": "ipython3",
   "version": "3.6.5"
  }
 },
 "nbformat": 4,
 "nbformat_minor": 2
}
