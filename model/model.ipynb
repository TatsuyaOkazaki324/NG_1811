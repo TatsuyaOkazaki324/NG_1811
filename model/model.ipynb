{
 "cells": [
  {
   "cell_type": "code",
   "execution_count": 129,
   "metadata": {},
   "outputs": [],
   "source": [
    "import json\n",
    "from pprint import pprint"
   ]
  },
  {
   "cell_type": "code",
   "execution_count": 202,
   "metadata": {},
   "outputs": [],
   "source": [
    "cmd_data = []\n",
    "with open(\"cmd_data.txt\",\"r\") as f:\n",
    "    for cmd in f:\n",
    "        cmd_data.append(cmd)"
   ]
  },
  {
   "cell_type": "code",
   "execution_count": 203,
   "metadata": {},
   "outputs": [],
   "source": [
    "\n",
    "def parse_option(opt):\n",
    "    return opt[1:len(opt)-1].split(\"|\")\n",
    "com = cmd[0].split()[0]"
   ]
  },
  {
   "cell_type": "code",
   "execution_count": 205,
   "metadata": {},
   "outputs": [],
   "source": [
    "model = {}\n",
    "\n",
    "# with open(\"./model/\"+com+\".json\",\"r\") as f:\n",
    "#     model = json.load(f)"
   ]
  },
  {
   "cell_type": "code",
   "execution_count": 209,
   "metadata": {},
   "outputs": [
    {
     "name": "stdout",
     "output_type": "stream",
     "text": [
      "search\n"
     ]
    },
    {
     "name": "stdin",
     "output_type": "stream",
     "text": [
      " パッケージのバージョン一覧を取得\n"
     ]
    },
    {
     "name": "stdout",
     "output_type": "stream",
     "text": [
      "True search\n",
      "@パッケージ名\n"
     ]
    },
    {
     "name": "stdin",
     "output_type": "stream",
     "text": [
      " バージョン一覧を確認したいパッケージ名\n"
     ]
    },
    {
     "name": "stdout",
     "output_type": "stream",
     "text": [
      "True @place\n",
      "cache\n"
     ]
    },
    {
     "name": "stdin",
     "output_type": "stream",
     "text": [
      " キャッシュを操作\n"
     ]
    },
    {
     "name": "stdout",
     "output_type": "stream",
     "text": [
      "True cache\n",
      "clean\n"
     ]
    },
    {
     "name": "stdin",
     "output_type": "stream",
     "text": [
      " キャッシュをクリア\n"
     ]
    },
    {
     "name": "stdout",
     "output_type": "stream",
     "text": [
      "True clean\n"
     ]
    }
   ],
   "source": [
    "\n",
    "for cmd in cmd_data:\n",
    "    path = model\n",
    "    for index,item in enumerate(cmd.split()):\n",
    "        val = \"@place\" if item[0] == \"@\" else item\n",
    "        \n",
    "        if val in path:\n",
    "            if path[val][\"predict\"]:\n",
    "                path = path[val][\"@next\"]\n",
    "            continue\n",
    "        \n",
    "        print(item)\n",
    "        des = input()\n",
    "        \n",
    "        if index == 0:\n",
    "            path[item] ={\n",
    "            \"weight\":1,\n",
    "            \"type\":\"command\",\n",
    "            \"val\":row,\n",
    "            \"predict\":True,\n",
    "            \"des\":des,\n",
    "            \"@next\":{}\n",
    "            }\n",
    "        elif item[0] == \"@\":\n",
    "\n",
    "            path[\"@place\"] ={\n",
    "                \"weight\":1,\n",
    "                \"type\":\"arg\",\n",
    "                \"val\":row,\n",
    "                \"predict\":True,\n",
    "                \"placeholder\":item[1:],\n",
    "                \"des\":des,\n",
    "                \"@next\":{}\n",
    "            }\n",
    "        else:\n",
    "            path[item] ={\n",
    "                \"weight\":1,\n",
    "                \"type\":\"option\",\n",
    "                \"val\":row,\n",
    "                \"predict\":True,\n",
    "                \"des\":des,\n",
    "                \"@next\":{}\n",
    "            }        \n",
    "        print(path[val][\"predict\"],val)\n",
    "        if path[val][\"predict\"]:\n",
    "            path = path[val][\"@next\"]"
   ]
  },
  {
   "cell_type": "code",
   "execution_count": 118,
   "metadata": {},
   "outputs": [],
   "source": [
    "# path = model\n",
    "# for row in cmd:\n",
    "#     if row[0] == \"[\":\n",
    "#         opts = parse_option(row)\n",
    "        \n",
    "#         for opt in opts:\n",
    "#             path[opt] = {\n",
    "#                 \"type\":\"option\",\n",
    "#                 \"val\":opt,\n",
    "#                 \"predict\":False,\n",
    "#                 \"des\":\"これが説明だよー\",\n",
    "#                 \"weight\":1\n",
    "#             }\n",
    "        \n",
    "#     elif row[0] == \"@\":\n",
    "#         path[\"@place\"]={\n",
    "#             \"type\":\"arg\",\n",
    "#             \"des\":\"これが説明だよー\",\n",
    "#             \"val\":\"@place\",\n",
    "#             \"predict\":False,\n",
    "#             \"placeholder\":row[1:],\n",
    "#             \"weight\":10,\n",
    "#             \"@next\":{}\n",
    "#         }\n",
    "#         path = path[\"@place\"][\"@next\"]\n",
    "    \n",
    "#     elif row[0] == \"|\":\n",
    "        \n",
    "#         path[row]={\n",
    "#             \"type\":\"pipe\",\n",
    "#             \"weight\":10,\n",
    "#             \"des\":\"前のコマンドの結果を次に受け渡す\",\n",
    "#             \"predict\":True,\n",
    "#             \"@next\":{}\n",
    "#         }\n",
    "        \n",
    "#         path = path[row][\"@next\"]\n",
    "        \n",
    "#     elif row == \"xargs\":\n",
    "        \n",
    "#         path[row]={\n",
    "#             \"type\":\"command\",\n",
    "#             \"weight\":10,\n",
    "#             \"des\":\"前のコマンドの結果からコマンドラインを作成\",\n",
    "#             \"predict\":True,\n",
    "#             \"@next\":{}\n",
    "#         }\n",
    "        \n",
    "        \n",
    "#     else:\n",
    "#         path[row] = {\n",
    "#             \"weight\":1,\n",
    "#             \"type\":\"command\",\n",
    "#             \"val\":row,\n",
    "#             \"predict\":True,\n",
    "#             \"des\":\"これが説明だよー\",\n",
    "#             \"@next\":{}\n",
    "#         }\n",
    "        \n",
    "#         path = path[row][\"@next\"]\n",
    "        \n",
    "    \n",
    "    "
   ]
  },
  {
   "cell_type": "code",
   "execution_count": 207,
   "metadata": {},
   "outputs": [
    {
     "name": "stdout",
     "output_type": "stream",
     "text": [
      "{'npm': {'@next': {'info': {'@next': {'@place': {'@next': {},\n",
      "                                                 'des': '表示するパッケージ名',\n",
      "                                                 'placeholder': 'パッケージ名',\n",
      "                                                 'predict': True,\n",
      "                                                 'type': 'arg',\n",
      "                                                 'val': '@PATH',\n",
      "                                                 'weight': 1}},\n",
      "                            'des': 'パッケージ情報の表示',\n",
      "                            'predict': True,\n",
      "                            'type': 'option',\n",
      "                            'val': '@PATH',\n",
      "                            'weight': 1},\n",
      "                   'init': {'@next': {},\n",
      "                            'des': 'package.jsonをインタラクティブに作成',\n",
      "                            'predict': True,\n",
      "                            'type': 'option',\n",
      "                            'val': '@PATH',\n",
      "                            'weight': 1},\n",
      "                   'install': {'@next': {'@place': {'@next': {},\n",
      "                                                    'des': '追加するパッケージ名',\n",
      "                                                    'placeholder': 'パッケージ名',\n",
      "                                                    'predict': True,\n",
      "                                                    'type': 'arg',\n",
      "                                                    'val': '@PATH',\n",
      "                                                    'weight': 1}},\n",
      "                               'des': 'パッケージを追加',\n",
      "                               'predict': True,\n",
      "                               'type': 'option',\n",
      "                               'val': '@PATH',\n",
      "                               'weight': 1},\n",
      "                   'run': {'@next': {'@place': {'@next': {},\n",
      "                                                'des': '実行するscript',\n",
      "                                                'placeholder': 'script',\n",
      "                                                'predict': True,\n",
      "                                                'type': 'arg',\n",
      "                                                'val': '@PATH',\n",
      "                                                'weight': 1}},\n",
      "                           'des': 'package.jsonのscriptの実行',\n",
      "                           'predict': True,\n",
      "                           'type': 'option',\n",
      "                           'val': '@PATH',\n",
      "                           'weight': 1},\n",
      "                   'uninstall': {'@next': {'@place': {'@next': {},\n",
      "                                                      'des': '削除するパッケージ名',\n",
      "                                                      'placeholder': 'パッケージ名',\n",
      "                                                      'predict': True,\n",
      "                                                      'type': 'arg',\n",
      "                                                      'val': '@PATH',\n",
      "                                                      'weight': 1}},\n",
      "                                 'des': 'パッケージを削除',\n",
      "                                 'predict': True,\n",
      "                                 'type': 'option',\n",
      "                                 'val': '@PATH',\n",
      "                                 'weight': 1},\n",
      "                   'update': {'@next': {'@place': {'@next': {},\n",
      "                                                   'des': '更新するパッケージ名',\n",
      "                                                   'placeholder': 'パッケージ名',\n",
      "                                                   'predict': True,\n",
      "                                                   'type': 'arg',\n",
      "                                                   'val': '@PATH',\n",
      "                                                   'weight': 1}},\n",
      "                              'des': 'パッケージの更新',\n",
      "                              'predict': True,\n",
      "                              'type': 'option',\n",
      "                              'val': '@PATH',\n",
      "                              'weight': 1}},\n",
      "         'des': 'npmを使用',\n",
      "         'predict': True,\n",
      "         'type': 'command',\n",
      "         'val': '@PATH',\n",
      "         'weight': 1}}\n"
     ]
    }
   ],
   "source": [
    "pprint(model)"
   ]
  },
  {
   "cell_type": "code",
   "execution_count": 210,
   "metadata": {},
   "outputs": [],
   "source": [
    "with open(\"./model/\"+com+\".json\",\"w\") as f:\n",
    "    json.dump(model,f,indent=2,ensure_ascii=False)"
   ]
  },
  {
   "cell_type": "code",
   "execution_count": 211,
   "metadata": {},
   "outputs": [
    {
     "data": {
      "text/plain": [
       "'n'"
      ]
     },
     "execution_count": 211,
     "metadata": {},
     "output_type": "execute_result"
    }
   ],
   "source": [
    "com"
   ]
  },
  {
   "cell_type": "code",
   "execution_count": null,
   "metadata": {},
   "outputs": [],
   "source": []
  }
 ],
 "metadata": {
  "kernelspec": {
   "display_name": "Python 3",
   "language": "python",
   "name": "python3"
  },
  "language_info": {
   "codemirror_mode": {
    "name": "ipython",
    "version": 3
   },
   "file_extension": ".py",
   "mimetype": "text/x-python",
   "name": "python",
   "nbconvert_exporter": "python",
   "pygments_lexer": "ipython3",
   "version": "3.6.5"
  }
 },
 "nbformat": 4,
 "nbformat_minor": 2
}
