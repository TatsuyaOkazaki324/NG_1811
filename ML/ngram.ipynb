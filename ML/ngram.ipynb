{
 "cells": [
  {
   "cell_type": "code",
   "execution_count": 303,
   "metadata": {},
   "outputs": [],
   "source": [
    "import json\n",
    "f = open(\"cmd_setumei.json\")\n",
    "setumei = json.load(f)"
   ]
  },
  {
   "cell_type": "code",
   "execution_count": 316,
   "metadata": {},
   "outputs": [
    {
     "name": "stdout",
     "output_type": "stream",
     "text": [
      "cd\n"
     ]
    },
    {
     "name": "stdin",
     "output_type": "stream",
     "text": [
      " ディレクトリの移動\n"
     ]
    },
    {
     "name": "stdout",
     "output_type": "stream",
     "text": [
      "touch\n"
     ]
    },
    {
     "name": "stdin",
     "output_type": "stream",
     "text": [
      " ファイルの作成\n"
     ]
    },
    {
     "name": "stdout",
     "output_type": "stream",
     "text": [
      "clear\n"
     ]
    },
    {
     "name": "stdin",
     "output_type": "stream",
     "text": [
      " 画面の表示を消去\n"
     ]
    },
    {
     "name": "stdout",
     "output_type": "stream",
     "text": [
      "pwd\n"
     ]
    },
    {
     "name": "stdin",
     "output_type": "stream",
     "text": [
      " カレントディレクトリの表示\n"
     ]
    }
   ],
   "source": [
    "n = 3\n",
    "state = []\n",
    "\n",
    "def create_state(cmd_row):\n",
    "    cmd = []\n",
    "    index = 0\n",
    "    for item in cmd_row:\n",
    "        if item[0] != \"[\":\n",
    "            cmd.append({\n",
    "                \"val\":item,\n",
    "                \"args\":[]\n",
    "            })\n",
    "            index += 1\n",
    "        else:\n",
    "            cmd[index-1][\"args\"].append({\n",
    "                \"placeholder\":item.replace(\"]\",\"\").replace(\"[\",\"\")\n",
    "            })\n",
    "        \n",
    "    \n",
    "    for i in range(len(cmd)):\n",
    "        if not cmd[i][\"val\"] in setumei:\n",
    "            print(cmd[i][\"val\"])\n",
    "            description = input()\n",
    "            setumei[cmd[i]['val']] = description\n",
    "        s = []\n",
    "        for j in range(i,min(i+n,len(cmd))):\n",
    "            s.append(cmd[j])\n",
    "        \n",
    "        s = [v for v in s if len(v) >= 2]\n",
    "        if len(s) >= 2:\n",
    "            state.append(s)\n",
    "\n",
    "with open(\"cmd_data.txt\",\"r\") as f:\n",
    "    for row in f:\n",
    "        cmd = row.split()\n",
    "        create_state(cmd)"
   ]
  },
  {
   "cell_type": "code",
   "execution_count": 305,
   "metadata": {},
   "outputs": [],
   "source": [
    "ng = {}\n",
    "def create_ngram(states):\n",
    "    \n",
    "    for cmd in states:\n",
    "        path = ng\n",
    "        for i in range(len(cmd)):\n",
    "            if cmd[i]['val'] in path:\n",
    "                path[cmd[i]['val']][\"count\"] += 1\n",
    "            else:\n",
    "                if cmd[i]['val'] == '|':\n",
    "                    cmd_type = \"pipe\"\n",
    "                elif cmd[i]['val'][0] == \"-\":\n",
    "                    cmd_type = \"option\"\n",
    "                elif cmd[i]['val'] in [\"<<\",\"<\",\">>\",\">\"]:\n",
    "                    cmd_type = \"redirect\"\n",
    "                else:\n",
    "                    try:\n",
    "                        result = subprocess.check_output([\"type\",cmd[i]['val']])\n",
    "                        if i == 0:\n",
    "                            cmd_type = \"command\"\n",
    "                        else:\n",
    "                            if cmd[i-1]['val'] ==  \"|\":\n",
    "                                cmd_type = \"command\"\n",
    "                            else:\n",
    "                                \n",
    "                                cmd_type = \"option\"\n",
    "                            \n",
    "                    except Exception as e:\n",
    "                        cmd_type = \"option\"\n",
    "\n",
    "                if cmd[i]['val'] in setumei:\n",
    "                    description = setumei[cmd[i]['val']]\n",
    "                else:\n",
    "                    print(\"target : \",cmd[i])\n",
    "                    description = input()\n",
    "                    setumei[cmd[i]['val']] = description\n",
    "                \n",
    "                path[cmd[i]['val']] = {\n",
    "                    \"type\":cmd_type,\n",
    "                    \"count\":1,\n",
    "                    \"description\":description,\n",
    "                    \"cmd\":cmd[i],\n",
    "                    \"next\":{}\n",
    "                }\n",
    "\n",
    "            path = path[cmd[i]['val']][\"next\"]\n",
    "        \n",
    "\n"
   ]
  },
  {
   "cell_type": "code",
   "execution_count": 306,
   "metadata": {},
   "outputs": [
    {
     "name": "stdout",
     "output_type": "stream",
     "text": [
      "target :  {'val': '-r', 'args': [{'placeholder': 'ディレクトリ名'}]}\n"
     ]
    },
    {
     "name": "stdin",
     "output_type": "stream",
     "text": [
      " ディレクトリを削除\n"
     ]
    },
    {
     "name": "stdout",
     "output_type": "stream",
     "text": [
      "target :  {'val': '-f', 'args': [{'placeholder': 'ファイル名'}]}\n"
     ]
    },
    {
     "name": "stdin",
     "output_type": "stream",
     "text": [
      " エラーメッセージを表示しない\n"
     ]
    }
   ],
   "source": [
    "create_ngram(state)"
   ]
  },
  {
   "cell_type": "code",
   "execution_count": 307,
   "metadata": {},
   "outputs": [],
   "source": [
    "import json\n",
    "model = json.dumps(ng,ensure_ascii=False,indent=2)\n",
    "with open(\"model.json\",\"w\") as f:\n",
    "    f.write(model)"
   ]
  },
  {
   "cell_type": "code",
   "execution_count": 317,
   "metadata": {},
   "outputs": [],
   "source": [
    "import json\n",
    "des = json.dumps(setumei,ensure_ascii=False,indent=2)\n",
    "with open(\"cmdDescription.json\",\"w\") as f:\n",
    "    f.write(des)"
   ]
  },
  {
   "cell_type": "code",
   "execution_count": 309,
   "metadata": {},
   "outputs": [],
   "source": [
    "import subprocess"
   ]
  },
  {
   "cell_type": "code",
   "execution_count": 311,
   "metadata": {},
   "outputs": [
    {
     "data": {
      "text/plain": [
       "{'type': 'command',\n",
       " 'count': 3,\n",
       " 'description': 'ファイルを出力',\n",
       " 'cmd': {'val': 'cat', 'args': [{'placeholder': 'ファイル名'}]},\n",
       " 'next': {'>>': {'type': 'redirect',\n",
       "   'count': 1,\n",
       "   'description': 'コマンドの結果をファイルに書き込む(追加)',\n",
       "   'cmd': {'val': '>>', 'args': [{'placeholder': '追加対象'}]},\n",
       "   'next': {}},\n",
       "  '>': {'type': 'redirect',\n",
       "   'count': 1,\n",
       "   'description': 'ファイルの末尾に追加(上書き）',\n",
       "   'cmd': {'val': '>', 'args': [{'placeholder': '上書き対象'}]},\n",
       "   'next': {}},\n",
       "  '|': {'type': 'pipe',\n",
       "   'count': 1,\n",
       "   'description': '前のコマンドの結果を次に渡す',\n",
       "   'cmd': {'val': '|', 'args': []},\n",
       "   'next': {'grep': {'type': 'command',\n",
       "     'count': 1,\n",
       "     'description': 'ファイルから文字列の検索',\n",
       "     'cmd': {'val': 'grep', 'args': [{'placeholder': '検索ワード'}]},\n",
       "     'next': {}}}}}}"
      ]
     },
     "execution_count": 311,
     "metadata": {},
     "output_type": "execute_result"
    }
   ],
   "source": [
    "ng[\"cat\"]"
   ]
  },
  {
   "cell_type": "code",
   "execution_count": null,
   "metadata": {},
   "outputs": [],
   "source": []
  },
  {
   "cell_type": "code",
   "execution_count": null,
   "metadata": {},
   "outputs": [],
   "source": []
  },
  {
   "cell_type": "code",
   "execution_count": null,
   "metadata": {},
   "outputs": [],
   "source": [
    " "
   ]
  }
 ],
 "metadata": {
  "kernelspec": {
   "display_name": "Python 3",
   "language": "python",
   "name": "python3"
  },
  "language_info": {
   "codemirror_mode": {
    "name": "ipython",
    "version": 3
   },
   "file_extension": ".py",
   "mimetype": "text/x-python",
   "name": "python",
   "nbconvert_exporter": "python",
   "pygments_lexer": "ipython3",
   "version": "3.7.0"
  }
 },
 "nbformat": 4,
 "nbformat_minor": 2
}
