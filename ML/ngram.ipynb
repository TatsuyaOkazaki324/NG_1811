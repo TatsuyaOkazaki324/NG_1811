{
 "cells": [
  {
   "cell_type": "code",
   "execution_count": 140,
   "metadata": {},
   "outputs": [],
   "source": [
    "ng = {}\n",
    "\n",
    "def create_ngram(states):\n",
    "    \n",
    "    for cmd in states:\n",
    "        path = ng\n",
    "        for i in range(len(cmd)):\n",
    "            if cmd[i] in path:\n",
    "                path[cmd[i]][\"count\"] += 1\n",
    "            else:\n",
    "                \n",
    "                if cmd[i][0] == \"-\":\n",
    "                    cmd_type = \"option\"\n",
    "                elif cmd[i][0] == \"[\":\n",
    "                    cmd_type = \"args\"\n",
    "                else:\n",
    "                    cmd_type = \"command\"\n",
    "                \n",
    "                if cmd[i] in setumei:\n",
    "                    description = setumei[cmd[i]]\n",
    "                else:\n",
    "                    print(\"target : \",cmd[i])\n",
    "                    description = input()\n",
    "                    setumei[cmd[i]] = description\n",
    "                \n",
    "                path[cmd[i]] = {\n",
    "                    \"type\":cmd_type,\n",
    "                    \"count\":1,\n",
    "                    \"description\":description,\n",
    "                    \"cmd\":cmd[i],\n",
    "                    \"next\":{}\n",
    "                }\n",
    "\n",
    "            path = path[cmd[i]][\"next\"]\n",
    "        \n",
    "\n"
   ]
  },
  {
   "cell_type": "code",
   "execution_count": 141,
   "metadata": {},
   "outputs": [],
   "source": [
    "n = 3\n",
    "state = []\n",
    "\n",
    "def create_state(cmd):\n",
    "    for i in range(len(cmd)):\n",
    "        s = []\n",
    "        for j in range(i,min(i+n,len(cmd))):\n",
    "            s.append(cmd[j])\n",
    "        \n",
    "        s = [v for v in s if len(v) >= 2]\n",
    "        if len(s) >= 2:\n",
    "            state.append(s)\n",
    "\n",
    "with open(\"cmd_data.txt\",\"r\") as f:\n",
    "    for row in f:\n",
    "        cmd = row.split()\n",
    "        create_state(cmd)"
   ]
  },
  {
   "cell_type": "code",
   "execution_count": 142,
   "metadata": {},
   "outputs": [],
   "source": [
    "create_ngram(state)"
   ]
  },
  {
   "cell_type": "code",
   "execution_count": 137,
   "metadata": {},
   "outputs": [],
   "source": [
    "import json\n",
    "model = json.dumps(ng,ensure_ascii=False,indent=2)\n",
    "with open(\"model.json\",\"w\") as f:\n",
    "    f.write(model)"
   ]
  },
  {
   "cell_type": "code",
   "execution_count": 139,
   "metadata": {},
   "outputs": [],
   "source": [
    "import json\n",
    "des = json.dumps(setumei,ensure_ascii=False,indent=2)\n",
    "with open(\"cmd_setumei.json\",\"w\") as f:\n",
    "    f.write(des)"
   ]
  },
  {
   "cell_type": "code",
   "execution_count": null,
   "metadata": {},
   "outputs": [],
   "source": []
  }
 ],
 "metadata": {
  "kernelspec": {
   "display_name": "Python 3",
   "language": "python",
   "name": "python3"
  },
  "language_info": {
   "codemirror_mode": {
    "name": "ipython",
    "version": 3
   },
   "file_extension": ".py",
   "mimetype": "text/x-python",
   "name": "python",
   "nbconvert_exporter": "python",
   "pygments_lexer": "ipython3",
   "version": "3.7.0"
  }
 },
 "nbformat": 4,
 "nbformat_minor": 2
}
