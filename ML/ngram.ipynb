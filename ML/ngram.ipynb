{
 "cells": [
  {
   "cell_type": "code",
   "execution_count": 98,
   "metadata": {},
   "outputs": [],
   "source": [
    "ng = {}\n",
    "\n",
    "def create_ngram(states):\n",
    "    \n",
    "    for cmd in states:\n",
    "        path = ng\n",
    "        print(cmd)\n",
    "        for i in range(len(cmd)):\n",
    "            if cmd[i] in path:\n",
    "                path[cmd[i]][\"count\"] += 1\n",
    "            else:\n",
    "\n",
    "                path[cmd[i]] = {\n",
    "                    \"type\":\"No value\",\n",
    "                    \"count\":1,\n",
    "                    \"cmd\":cmd[i],\n",
    "                    \"next\":{}\n",
    "                }\n",
    "\n",
    "            path = path[cmd[i]][\"next\"]\n",
    "        \n",
    "        print(ng)\n",
    "\n",
    "\n"
   ]
  },
  {
   "cell_type": "code",
   "execution_count": 99,
   "metadata": {},
   "outputs": [],
   "source": [
    "n = 3\n",
    "state = []\n",
    "\n",
    "def create_state(cmd):\n",
    "    for i in range(len(cmd)):\n",
    "        s = []\n",
    "        for j in range(i,min(i+n,len(cmd))):\n",
    "            s.append(cmd[j])\n",
    "        \n",
    "        s = [v for v in s if len(v) >= 2]\n",
    "        if len(s) >= 2:\n",
    "            state.append(s)\n",
    "\n",
    "with open(\"cmd_log.sh\",\"r\") as f:\n",
    "    for row in f:\n",
    "        cmd = row.split()\n",
    "        create_state(cmd)"
   ]
  },
  {
   "cell_type": "code",
   "execution_count": 100,
   "metadata": {},
   "outputs": [
    {
     "name": "stdout",
     "output_type": "stream",
     "text": [
      "['git', 'push', 'origin']\n",
      "{'git': {'type': 'No value', 'count': 1, 'cmd': 'git', 'next': {'push': {'type': 'No value', 'count': 1, 'cmd': 'push', 'next': {'origin': {'type': 'No value', 'count': 1, 'cmd': 'origin', 'next': {}}}}}}}\n",
      "['push', 'origin', 'master']\n",
      "{'git': {'type': 'No value', 'count': 1, 'cmd': 'git', 'next': {'push': {'type': 'No value', 'count': 1, 'cmd': 'push', 'next': {'origin': {'type': 'No value', 'count': 1, 'cmd': 'origin', 'next': {}}}}}}, 'push': {'type': 'No value', 'count': 1, 'cmd': 'push', 'next': {'origin': {'type': 'No value', 'count': 1, 'cmd': 'origin', 'next': {'master': {'type': 'No value', 'count': 1, 'cmd': 'master', 'next': {}}}}}}}\n",
      "['origin', 'master']\n",
      "{'git': {'type': 'No value', 'count': 1, 'cmd': 'git', 'next': {'push': {'type': 'No value', 'count': 1, 'cmd': 'push', 'next': {'origin': {'type': 'No value', 'count': 1, 'cmd': 'origin', 'next': {}}}}}}, 'push': {'type': 'No value', 'count': 1, 'cmd': 'push', 'next': {'origin': {'type': 'No value', 'count': 1, 'cmd': 'origin', 'next': {'master': {'type': 'No value', 'count': 1, 'cmd': 'master', 'next': {}}}}}}, 'origin': {'type': 'No value', 'count': 1, 'cmd': 'origin', 'next': {'master': {'type': 'No value', 'count': 1, 'cmd': 'master', 'next': {}}}}}\n"
     ]
    }
   ],
   "source": [
    "create_ngram(state)"
   ]
  },
  {
   "cell_type": "code",
   "execution_count": 101,
   "metadata": {},
   "outputs": [
    {
     "data": {
      "text/plain": [
       "{'git': {'type': 'No value',\n",
       "  'count': 1,\n",
       "  'cmd': 'git',\n",
       "  'next': {'push': {'type': 'No value',\n",
       "    'count': 1,\n",
       "    'cmd': 'push',\n",
       "    'next': {'origin': {'type': 'No value',\n",
       "      'count': 1,\n",
       "      'cmd': 'origin',\n",
       "      'next': {}}}}}},\n",
       " 'push': {'type': 'No value',\n",
       "  'count': 1,\n",
       "  'cmd': 'push',\n",
       "  'next': {'origin': {'type': 'No value',\n",
       "    'count': 1,\n",
       "    'cmd': 'origin',\n",
       "    'next': {'master': {'type': 'No value',\n",
       "      'count': 1,\n",
       "      'cmd': 'master',\n",
       "      'next': {}}}}}},\n",
       " 'origin': {'type': 'No value',\n",
       "  'count': 1,\n",
       "  'cmd': 'origin',\n",
       "  'next': {'master': {'type': 'No value',\n",
       "    'count': 1,\n",
       "    'cmd': 'master',\n",
       "    'next': {}}}}}"
      ]
     },
     "execution_count": 101,
     "metadata": {},
     "output_type": "execute_result"
    }
   ],
   "source": [
    "ng"
   ]
  },
  {
   "cell_type": "code",
   "execution_count": null,
   "metadata": {},
   "outputs": [],
   "source": []
  }
 ],
 "metadata": {
  "kernelspec": {
   "display_name": "Python 3",
   "language": "python",
   "name": "python3"
  },
  "language_info": {
   "codemirror_mode": {
    "name": "ipython",
    "version": 3
   },
   "file_extension": ".py",
   "mimetype": "text/x-python",
   "name": "python",
   "nbconvert_exporter": "python",
   "pygments_lexer": "ipython3",
   "version": "3.7.0"
  }
 },
 "nbformat": 4,
 "nbformat_minor": 2
}
