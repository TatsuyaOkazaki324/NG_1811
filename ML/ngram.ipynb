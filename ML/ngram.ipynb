{
 "cells": [
  {
   "cell_type": "code",
   "execution_count": 147,
   "metadata": {},
   "outputs": [],
   "source": [
    "import json\n",
    "f = open(\"cmd_setumei.json\")\n",
    "setumei = json.load(f)"
   ]
  },
  {
   "cell_type": "code",
   "execution_count": 153,
   "metadata": {},
   "outputs": [
    {
     "name": "stdout",
     "output_type": "stream",
     "text": [
      "[{'val': 'git', 'args': []}, {'val': 'add', 'args': [{'placeholder': '[PATH]'}]}]\n",
      "[{'val': 'git', 'args': []}, {'val': 'push', 'args': []}, {'val': 'origin', 'args': []}, {'val': 'master', 'args': []}]\n",
      "[{'val': 'git', 'args': []}, {'val': 'commit', 'args': []}, {'val': '-m', 'args': [{'placeholder': '[String]'}]}]\n",
      "[{'val': 'git', 'args': []}, {'val': 'push', 'args': []}, {'val': 'origin', 'args': [{'placeholder': '[ブランチ名]'}]}]\n",
      "[{'val': 'git', 'args': []}, {'val': 'diff', 'args': [{'placeholder': '[PATH]'}]}]\n",
      "[{'val': 'git', 'args': []}, {'val': 'log', 'args': []}]\n",
      "[{'val': 'find', 'args': [{'placeholder': '[PATH]'}]}, {'val': '-name', 'args': [{'placeholder': '[PATH]'}]}]\n",
      "[{'val': 'find', 'args': [{'placeholder': '[PATH]'}]}, {'val': '-name', 'args': [{'placeholder': '[PATH]'}]}, {'val': '|', 'args': []}, {'val': 'xargs', 'args': []}, {'val': 'cat', 'args': []}]\n",
      "[{'val': 'cat', 'args': [{'placeholder': '[PATH]'}]}, {'val': '>>', 'args': [{'placeholder': '[PATH]'}]}]\n",
      "[{'val': 'cat', 'args': [{'placeholder': '[PATH]'}]}, {'val': '>', 'args': [{'placeholder': '[PATH]'}]}]\n",
      "[{'val': 'cat', 'args': [{'placeholder': '[PATH]'}]}, {'val': '|', 'args': []}, {'val': 'grep', 'args': [{'placeholder': '[String]'}]}]\n"
     ]
    }
   ],
   "source": [
    "n = 3\n",
    "state = []\n",
    "\n",
    "def create_state(cmd_row):\n",
    "    cmd = []\n",
    "    index = 0\n",
    "    for item in cmd_row:\n",
    "        if item[0] != \"[\":\n",
    "            cmd.append({\n",
    "                \"val\":item,\n",
    "                \"args\":[]\n",
    "            })\n",
    "            index += 1\n",
    "        else:\n",
    "            cmd[index-1][\"args\"].append({\n",
    "                \"placeholder\":item\n",
    "            })\n",
    "        \n",
    "    \n",
    "    for i in range(len(cmd)):\n",
    "        s = []\n",
    "        for j in range(i,min(i+n,len(cmd))):\n",
    "            s.append(cmd[j])\n",
    "        \n",
    "        s = [v for v in s if len(v) >= 2]\n",
    "        if len(s) >= 2:\n",
    "            state.append(s)\n",
    "\n",
    "with open(\"cmd_data.txt\",\"r\") as f:\n",
    "    for row in f:\n",
    "        cmd = row.split()\n",
    "        create_state(cmd)"
   ]
  },
  {
   "cell_type": "code",
   "execution_count": 177,
   "metadata": {},
   "outputs": [],
   "source": [
    "ng = {}\n",
    "\n",
    "def create_ngram(states):\n",
    "    \n",
    "    for cmd in states:\n",
    "        path = ng\n",
    "        for i in range(len(cmd)):\n",
    "            if cmd[i]['val'] in path:\n",
    "                path[cmd[i]['val']][\"count\"] += 1\n",
    "            else:\n",
    "                \n",
    "                if cmd[i]['val'][0] == \"-\":\n",
    "                    cmd_type = \"option\"\n",
    "                else:\n",
    "                    cmd_type = \"command\"\n",
    "                print(cmd[i]['val'])\n",
    "                if cmd[i]['val'] in setumei:\n",
    "                    description = setumei[cmd[i]['val']]\n",
    "                else:\n",
    "                    print(\"target : \",cmd[i])\n",
    "                    description = input()\n",
    "                    setumei[cmd[i]['val']] = description\n",
    "                \n",
    "                path[cmd[i]['val']] = {\n",
    "                    \"type\":cmd_type,\n",
    "                    \"count\":1,\n",
    "                    \"description\":description,\n",
    "                    \"cmd\":cmd[i],\n",
    "                    \"next\":{}\n",
    "                }\n",
    "\n",
    "            path = path[cmd[i]['val']][\"next\"]\n",
    "        \n",
    "\n"
   ]
  },
  {
   "cell_type": "code",
   "execution_count": 178,
   "metadata": {},
   "outputs": [
    {
     "data": {
      "text/plain": [
       "{}"
      ]
     },
     "execution_count": 178,
     "metadata": {},
     "output_type": "execute_result"
    }
   ],
   "source": [
    "ng"
   ]
  },
  {
   "cell_type": "code",
   "execution_count": 179,
   "metadata": {},
   "outputs": [
    {
     "name": "stdout",
     "output_type": "stream",
     "text": [
      "git\n",
      "add\n",
      "push\n",
      "origin\n",
      "push\n",
      "origin\n",
      "master\n",
      "origin\n",
      "master\n",
      "commit\n",
      "-m\n",
      "commit\n",
      "-m\n",
      "diff\n",
      "log\n",
      "find\n",
      "-name\n",
      "|\n",
      "-name\n",
      "|\n",
      "xargs\n",
      "|\n",
      "xargs\n",
      "cat\n",
      "xargs\n",
      "cat\n",
      "cat\n",
      ">>\n",
      ">\n",
      "|\n",
      "grep\n",
      "grep\n"
     ]
    }
   ],
   "source": [
    "create_ngram(state)"
   ]
  },
  {
   "cell_type": "code",
   "execution_count": 182,
   "metadata": {},
   "outputs": [],
   "source": [
    "import json\n",
    "model = json.dumps(ng,ensure_ascii=False,indent=2)\n",
    "with open(\"model.json\",\"w\") as f:\n",
    "    f.write(model)"
   ]
  },
  {
   "cell_type": "code",
   "execution_count": 181,
   "metadata": {},
   "outputs": [],
   "source": [
    "import json\n",
    "des = json.dumps(setumei,ensure_ascii=False,indent=2)\n",
    "with open(\"cmd_setumei.json\",\"w\") as f:\n",
    "    f.write(des)"
   ]
  },
  {
   "cell_type": "code",
   "execution_count": 183,
   "metadata": {},
   "outputs": [
    {
     "data": {
      "text/plain": [
       "[[{'val': 'git', 'args': []},\n",
       "  {'val': 'add', 'args': [{'placeholder': '[PATH]'}]}],\n",
       " [{'val': 'git', 'args': []},\n",
       "  {'val': 'push', 'args': []},\n",
       "  {'val': 'origin', 'args': []}],\n",
       " [{'val': 'push', 'args': []},\n",
       "  {'val': 'origin', 'args': []},\n",
       "  {'val': 'master', 'args': []}],\n",
       " [{'val': 'origin', 'args': []}, {'val': 'master', 'args': []}],\n",
       " [{'val': 'git', 'args': []},\n",
       "  {'val': 'commit', 'args': []},\n",
       "  {'val': '-m', 'args': [{'placeholder': '[String]'}]}],\n",
       " [{'val': 'commit', 'args': []},\n",
       "  {'val': '-m', 'args': [{'placeholder': '[String]'}]}],\n",
       " [{'val': 'git', 'args': []},\n",
       "  {'val': 'push', 'args': []},\n",
       "  {'val': 'origin', 'args': [{'placeholder': '[ブランチ名]'}]}],\n",
       " [{'val': 'push', 'args': []},\n",
       "  {'val': 'origin', 'args': [{'placeholder': '[ブランチ名]'}]}],\n",
       " [{'val': 'git', 'args': []},\n",
       "  {'val': 'diff', 'args': [{'placeholder': '[PATH]'}]}],\n",
       " [{'val': 'git', 'args': []}, {'val': 'log', 'args': []}],\n",
       " [{'val': 'find', 'args': [{'placeholder': '[PATH]'}]},\n",
       "  {'val': '-name', 'args': [{'placeholder': '[PATH]'}]}],\n",
       " [{'val': 'find', 'args': [{'placeholder': '[PATH]'}]},\n",
       "  {'val': '-name', 'args': [{'placeholder': '[PATH]'}]},\n",
       "  {'val': '|', 'args': []}],\n",
       " [{'val': '-name', 'args': [{'placeholder': '[PATH]'}]},\n",
       "  {'val': '|', 'args': []},\n",
       "  {'val': 'xargs', 'args': []}],\n",
       " [{'val': '|', 'args': []},\n",
       "  {'val': 'xargs', 'args': []},\n",
       "  {'val': 'cat', 'args': []}],\n",
       " [{'val': 'xargs', 'args': []}, {'val': 'cat', 'args': []}],\n",
       " [{'val': 'cat', 'args': [{'placeholder': '[PATH]'}]},\n",
       "  {'val': '>>', 'args': [{'placeholder': '[PATH]'}]}],\n",
       " [{'val': 'cat', 'args': [{'placeholder': '[PATH]'}]},\n",
       "  {'val': '>', 'args': [{'placeholder': '[PATH]'}]}],\n",
       " [{'val': 'cat', 'args': [{'placeholder': '[PATH]'}]},\n",
       "  {'val': '|', 'args': []},\n",
       "  {'val': 'grep', 'args': [{'placeholder': '[String]'}]}],\n",
       " [{'val': '|', 'args': []},\n",
       "  {'val': 'grep', 'args': [{'placeholder': '[String]'}]}]]"
      ]
     },
     "execution_count": 183,
     "metadata": {},
     "output_type": "execute_result"
    }
   ],
   "source": [
    "state"
   ]
  },
  {
   "cell_type": "code",
   "execution_count": null,
   "metadata": {},
   "outputs": [],
   "source": []
  }
 ],
 "metadata": {
  "kernelspec": {
   "display_name": "Python 3",
   "language": "python",
   "name": "python3"
  },
  "language_info": {
   "codemirror_mode": {
    "name": "ipython",
    "version": 3
   },
   "file_extension": ".py",
   "mimetype": "text/x-python",
   "name": "python",
   "nbconvert_exporter": "python",
   "pygments_lexer": "ipython3",
   "version": "3.7.0"
  }
 },
 "nbformat": 4,
 "nbformat_minor": 2
}
