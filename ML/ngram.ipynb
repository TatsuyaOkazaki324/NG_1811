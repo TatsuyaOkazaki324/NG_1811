{
 "cells": [
  {
   "cell_type": "code",
   "execution_count": 72,
   "metadata": {},
   "outputs": [],
   "source": [
    "import json\n",
    "f = open(\"cmdDescription.json\")\n",
    "setumei = json.load(f)"
   ]
  },
  {
   "cell_type": "code",
   "execution_count": 73,
   "metadata": {},
   "outputs": [],
   "source": [
    "n = 3\n",
    "state = []\n",
    "\n",
    "def create_state(cmd_row):\n",
    "    cmd = []\n",
    "    index = 0\n",
    "    for item in cmd_row:\n",
    "        if item[0] != \"[\":\n",
    "            cmd.append({\n",
    "                \"val\":item,\n",
    "                \"args\":[]\n",
    "            })\n",
    "            index += 1\n",
    "        else:\n",
    "            cmd[index-1][\"args\"].append({\n",
    "                \"placeholder\":item.replace(\"]\",\"\").replace(\"[\",\"\")\n",
    "            })\n",
    "        \n",
    "    \n",
    "    for i in range(len(cmd)):\n",
    "        if not cmd[i][\"val\"] in setumei:\n",
    "            print(cmd[i][\"val\"])\n",
    "            description = input()\n",
    "            setumei[cmd[i]['val']] = description\n",
    "        s = []\n",
    "        for j in range(i,min(i+n,len(cmd))):\n",
    "            s.append(cmd[j])\n",
    "        \n",
    "        s = [v for v in s if len(v) >= 2]\n",
    "        if len(s) >= 1:\n",
    "            state.append(s)\n",
    "\n",
    "with open(\"cmd_data.txt\",\"r\") as f:\n",
    "    for row in f:\n",
    "        cmd = row.split()\n",
    "        create_state(cmd)"
   ]
  },
  {
   "cell_type": "code",
   "execution_count": 74,
   "metadata": {},
   "outputs": [],
   "source": [
    "ng = {}\n",
    "def create_ngram(states):\n",
    "    \n",
    "    for cmd in states:\n",
    "        path = ng\n",
    "        for i in range(len(cmd)):\n",
    "            if cmd[i]['val'] in path:\n",
    "                path[cmd[i]['val']][\"count\"] += 1\n",
    "            else:\n",
    "                if cmd[i]['val'] == '|':\n",
    "                    cmd_type = \"pipe\"\n",
    "                elif cmd[i]['val'][0] == \"-\":\n",
    "                    cmd_type = \"option\"\n",
    "                elif cmd[i]['val'] in [\"<<\",\"<\",\">>\",\">\"]:\n",
    "                    cmd_type = \"redirect\"\n",
    "                else:\n",
    "                    try:\n",
    "                        result = subprocess.check_output([\"type\",cmd[i]['val']])\n",
    "                        if i == 0:\n",
    "                            cmd_type = \"command\"\n",
    "                        else:\n",
    "                            if cmd[i-1]['val'] ==  \"|\":\n",
    "                                cmd_type = \"command\"\n",
    "                            else:\n",
    "                                \n",
    "                                cmd_type = \"option\"\n",
    "                            \n",
    "                    except Exception as e:\n",
    "                        cmd_type = \"option\"\n",
    "\n",
    "                if cmd[i]['val'] in setumei:\n",
    "                    description = setumei[cmd[i]['val']]\n",
    "                else:\n",
    "                    print(\"target : \",cmd[i])\n",
    "                    description = input()\n",
    "                    setumei[cmd[i]['val']] = description\n",
    "                \n",
    "                path[cmd[i]['val']] = {\n",
    "                    \"type\":cmd_type,\n",
    "                    \"count\":1,\n",
    "                    \"description\":description,\n",
    "                    \"cmd\":cmd[i],\n",
    "                    \"next\":{}\n",
    "                }\n",
    "\n",
    "            path = path[cmd[i]['val']][\"next\"]\n",
    "        \n",
    "\n"
   ]
  },
  {
   "cell_type": "code",
   "execution_count": 75,
   "metadata": {},
   "outputs": [],
   "source": [
    "create_ngram(state)"
   ]
  },
  {
   "cell_type": "code",
   "execution_count": 76,
   "metadata": {},
   "outputs": [],
   "source": [
    "import json\n",
    "model = json.dumps(ng,ensure_ascii=False,indent=2)\n",
    "with open(\"model.json\",\"w\") as f:\n",
    "    f.write(model)"
   ]
  },
  {
   "cell_type": "code",
   "execution_count": 77,
   "metadata": {},
   "outputs": [],
   "source": [
    "import json\n",
    "des = json.dumps(setumei,ensure_ascii=False,indent=2)\n",
    "with open(\"cmdDescription.json\",\"w\") as f:\n",
    "    f.write(des)"
   ]
  },
  {
   "cell_type": "code",
   "execution_count": null,
   "metadata": {},
   "outputs": [],
   "source": []
  },
  {
   "cell_type": "code",
   "execution_count": null,
   "metadata": {},
   "outputs": [],
   "source": [
    " "
   ]
  },
  {
   "cell_type": "code",
   "execution_count": null,
   "metadata": {},
   "outputs": [],
   "source": []
  }
 ],
 "metadata": {
  "kernelspec": {
   "display_name": "Python 3",
   "language": "python",
   "name": "python3"
  },
  "language_info": {
   "codemirror_mode": {
    "name": "ipython",
    "version": 3
   },
   "file_extension": ".py",
   "mimetype": "text/x-python",
   "name": "python",
   "nbconvert_exporter": "python",
   "pygments_lexer": "ipython3",
   "version": "3.7.0"
  }
 },
 "nbformat": 4,
 "nbformat_minor": 2
}
